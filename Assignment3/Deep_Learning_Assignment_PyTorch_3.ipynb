{
  "nbformat": 4,
  "nbformat_minor": 0,
  "metadata": {
    "colab": {
      "provenance": []
    },
    "kernelspec": {
      "name": "python3",
      "display_name": "Python 3"
    },
    "language_info": {
      "name": "python"
    }
  },
  "cells": [
    {
      "cell_type": "code",
      "source": [
        "import torch\n",
        "\n",
        "device = torch.device('cuda' if torch.cuda.is_available() else 'cpu')\n",
        "print('isAvailable: ', device)"
      ],
      "metadata": {
        "id": "7sNHJaQ3f-J6",
        "colab": {
          "base_uri": "https://localhost:8080/"
        },
        "outputId": "4cdad82d-1db2-413d-b803-dee913214118"
      },
      "execution_count": null,
      "outputs": [
        {
          "output_type": "stream",
          "name": "stdout",
          "text": [
            "isAvailable:  cuda\n"
          ]
        }
      ]
    },
    {
      "cell_type": "code",
      "source": [
        "import torch.nn as nn\n",
        "import torch.optim as optim\n",
        "import torch.nn.functional as F\n",
        "import torchvision\n",
        "import torchvision.transforms as transforms\n",
        "from torch.utils.data import DataLoader\n",
        "\n",
        "batch_size = 128\n",
        "num_epochs = 10\n",
        "learning_rate = 0.001"
      ],
      "metadata": {
        "id": "GW4dHHn4WDIy"
      },
      "execution_count": null,
      "outputs": []
    },
    {
      "cell_type": "code",
      "source": [
        "# Define the transformations for the training dataset\n",
        "transform_train = transforms.Compose([\n",
        "    transforms.RandomCrop(32, padding=4),\n",
        "    transforms.RandomHorizontalFlip(),\n",
        "    transforms.ToTensor(),\n",
        "    transforms.Normalize((0.4914, 0.4822, 0.4465), (0.2023, 0.1994, 0.2010))\n",
        "])\n",
        "\n",
        "# Define the transformations for the test dataset\n",
        "transform_test = transforms.Compose([\n",
        "    transforms.ToTensor(),\n",
        "    transforms.Normalize((0.4914, 0.4822, 0.4465), (0.2023, 0.1994, 0.2010))\n",
        "])"
      ],
      "metadata": {
        "id": "Trv9bMPudvD3"
      },
      "execution_count": null,
      "outputs": []
    },
    {
      "cell_type": "code",
      "source": [
        "# Load the CIFAR-10 dataset with the defined transformations\n",
        "train_dataset = torchvision.datasets.CIFAR10(root='path/to/data', train=True,\n",
        "                                       download=True, transform=transform_train)\n",
        "test_dataset = torchvision.datasets.CIFAR10(root='path/to/data', train=False,\n",
        "                                       download=True, transform=transform_test)\n",
        "\n",
        "# Create data loaders\n",
        "train_loader = torch.utils.data.DataLoader(train_dataset, batch_size=batch_size,\n",
        "                                          shuffle=True)\n",
        "test_loader = torch.utils.data.DataLoader(test_dataset, batch_size=batch_size,\n",
        "                                         shuffle=False)\n"
      ],
      "metadata": {
        "id": "yWV2ZPbffSPq",
        "colab": {
          "base_uri": "https://localhost:8080/"
        },
        "outputId": "cc0a3b6e-f276-4007-dc31-bd351d2eb023"
      },
      "execution_count": null,
      "outputs": [
        {
          "output_type": "stream",
          "name": "stdout",
          "text": [
            "Downloading https://www.cs.toronto.edu/~kriz/cifar-10-python.tar.gz to path/to/data/cifar-10-python.tar.gz\n"
          ]
        },
        {
          "output_type": "stream",
          "name": "stderr",
          "text": [
            "100%|██████████| 170498071/170498071 [00:03<00:00, 43286857.22it/s]\n"
          ]
        },
        {
          "output_type": "stream",
          "name": "stdout",
          "text": [
            "Extracting path/to/data/cifar-10-python.tar.gz to path/to/data\n",
            "Files already downloaded and verified\n"
          ]
        }
      ]
    },
    {
      "cell_type": "code",
      "source": [
        "class CNN(nn.Module):\n",
        "    def __init__(self):\n",
        "        super(CNN, self).__init__()\n",
        "        # Define layers\n",
        "        self.conv1 = nn.Conv2d(3, 64, kernel_size=3, padding=1)  # Input: 3 channels, Output: 64 channels\n",
        "        self.conv2 = nn.Conv2d(64, 128, kernel_size=3, padding=1)  # Input: 64 channels, Output: 128 channels\n",
        "        self.conv3 = nn.Conv2d(128, 256, kernel_size=3, padding=1)  # Input: 128 channels, Output: 256 channels\n",
        "        self.conv4 = nn.Conv2d(256, 512, kernel_size=3, padding=1)  # Input: 256 channels, Output: 512 channels\n",
        "\n",
        "        self.pool = nn.MaxPool2d(2, 2)  # Max pooling layer\n",
        "        # input size for the fully connected layer\n",
        "        self.fc1 = nn.Linear(512 * 2 * 2, 1024)\n",
        "        self.fc2 = nn.Linear(1024, 10)  # Output layer for 10 classes\n",
        "\n",
        "    def forward(self, x):\n",
        "        # Pass through convolutional layers with ReLU activation and pooling\n",
        "        x = self.pool(F.relu(self.conv1(x)))  # Conv1\n",
        "        x = self.pool(F.relu(self.conv2(x)))  # Conv2\n",
        "        x = self.pool(F.relu(self.conv3(x)))  # Conv3\n",
        "        x = self.pool(F.relu(self.conv4(x)))  # Conv4\n",
        "\n",
        "        x = x.view(x.size(0), -1)  # Flatten\n",
        "        x = F.relu(self.fc1(x))  # Fully connected layer\n",
        "        x = self.fc2(x)  # Output layer\n",
        "        return x"
      ],
      "metadata": {
        "id": "hje7X6f5LloT"
      },
      "execution_count": null,
      "outputs": []
    },
    {
      "cell_type": "code",
      "source": [
        "model = CNN().to(device)\n",
        "criterion = nn.CrossEntropyLoss()\n",
        "optimizer = optim.Adam(model.parameters(), lr=learning_rate)\n",
        "\n",
        "# Scheduler for learning rate\n",
        "scheduler = optim.lr_scheduler.StepLR(optimizer, step_size=10, gamma=0.1)"
      ],
      "metadata": {
        "id": "lfQ_iPrN5osx"
      },
      "execution_count": null,
      "outputs": []
    },
    {
      "cell_type": "code",
      "source": [
        "# Training function\n",
        "def train(model, train_loader, criterion, optimizer, device):\n",
        "    model.train()  # Set the model to training mode\n",
        "    running_loss = 0.0  # Initialize running loss\n",
        "    correct = 0  # Initialize correct predictions counter\n",
        "    total = 0  # Initialize total samples counter\n",
        "\n",
        "    for i, (images, labels) in enumerate(train_loader):  # Iterate over batches of data\n",
        "        images, labels = images.to(device), labels.to(device)  # Move data to device\n",
        "\n",
        "        optimizer.zero_grad()  # Zero the gradients for the optimizer\n",
        "        outputs = model(images)  # Forward pass through the model\n",
        "        loss = criterion(outputs, labels)  # Calculate loss\n",
        "        loss.backward()  # Backward pass to calculate gradients\n",
        "        optimizer.step()  # Update model parameters\n",
        "\n",
        "        running_loss += loss.item()  # Accumulate loss for averaging\n",
        "        _, predicted = outputs.max(1)  # Get predicted class indices\n",
        "        total += labels.size(0)  # Update total samples processed\n",
        "        correct += predicted.eq(labels).sum().item()  # Count correct predictions\n",
        "\n",
        "    print(f'Train Loss: {running_loss / len(train_loader):.4f}, Accuracy: {100. * correct / total:.2f}%')\n"
      ],
      "metadata": {
        "id": "ItTTJD4361Il"
      },
      "execution_count": null,
      "outputs": []
    },
    {
      "cell_type": "code",
      "source": [
        "import matplotlib.pyplot as plt\n",
        "\n",
        "# Validation function\n",
        "def validate(model, test_loader, criterion, device):\n",
        "    model.eval()  # Set the model to evaluation mode\n",
        "    val_loss = 0.0  # Initialize validation loss\n",
        "    correct = 0  # Initialize correct predictions counter\n",
        "    total = 0  # Initialize total samples counter\n",
        "\n",
        "    with torch.no_grad():  # Disable gradient calculation for validation\n",
        "        for images, labels in test_loader:\n",
        "            images, labels = images.to(device), labels.to(device)\n",
        "\n",
        "            outputs = model(images)  # Forward pass\n",
        "            loss = criterion(outputs, labels)  # Calculate loss\n",
        "\n",
        "            val_loss += loss.item()  # Accumulate validation loss\n",
        "            _, predicted = outputs.max(1)  # Get predicted class indices\n",
        "            total += labels.size(0)  # Update total samples processed\n",
        "            correct += predicted.eq(labels).sum().item()  # Count correct predictions\n",
        "\n",
        "    val_accuracy = 100. * correct / total\n",
        "    return val_loss / len(test_loader), val_accuracy  # Return validation loss and accuracy\n",
        "\n",
        "\n",
        "# Training function\n",
        "def train_and_validate(model, train_loader, test_loader, criterion, optimizer, scheduler, device, num_epochs):\n",
        "    train_losses = []\n",
        "    val_losses = []\n",
        "    train_accuracies = []\n",
        "    val_accuracies = []\n",
        "\n",
        "    for epoch in range(num_epochs):\n",
        "        model.train()  # Set the model to training mode\n",
        "        running_loss = 0.0\n",
        "        correct = 0\n",
        "        total = 0\n",
        "\n",
        "        # Training loop\n",
        "        for i, (images, labels) in enumerate(train_loader):\n",
        "            images, labels = images.to(device), labels.to(device)\n",
        "\n",
        "            optimizer.zero_grad()\n",
        "            outputs = model(images)\n",
        "            loss = criterion(outputs, labels)\n",
        "            loss.backward()\n",
        "            optimizer.step()\n",
        "\n",
        "            running_loss += loss.item()\n",
        "            _, predicted = outputs.max(1)\n",
        "            total += labels.size(0)\n",
        "            correct += predicted.eq(labels).sum().item()\n",
        "\n",
        "        # After training an epoch, calculate accuracy and loss\n",
        "        train_loss = running_loss / len(train_loader)\n",
        "        train_accuracy = 100. * correct / total\n",
        "        train_losses.append(train_loss)\n",
        "        train_accuracies.append(train_accuracy)\n",
        "\n",
        "        # Validation after each epoch\n",
        "        val_loss, val_accuracy = validate(model, test_loader, criterion, device)\n",
        "        val_losses.append(val_loss)\n",
        "        val_accuracies.append(val_accuracy)\n",
        "\n",
        "        # Step the learning rate scheduler\n",
        "        scheduler.step()\n",
        "\n",
        "        print(f'Epoch [{epoch+1}/{num_epochs}] - Train Loss: {train_loss:.4f}, Train Accuracy: {train_accuracy:.2f}% '\n",
        "              f'- Val Loss: {val_loss:.4f}, Val Accuracy: {val_accuracy:.2f}%')\n",
        "\n",
        "    return train_losses, val_losses, train_accuracies, val_accuracies"
      ],
      "metadata": {
        "id": "uyxklyu788j2"
      },
      "execution_count": null,
      "outputs": []
    },
    {
      "cell_type": "code",
      "source": [
        "train_losses, val_losses, train_accuracies, val_accuracies = train_and_validate(\n",
        "    model, train_loader, test_loader, criterion, optimizer, scheduler, device, num_epochs\n",
        ")\n",
        "\n"
      ],
      "metadata": {
        "id": "krolMVsU8_OM",
        "colab": {
          "base_uri": "https://localhost:8080/"
        },
        "outputId": "987cbcc6-6341-4722-b01a-45b492bfe0d4"
      },
      "execution_count": null,
      "outputs": [
        {
          "output_type": "stream",
          "name": "stdout",
          "text": [
            "Epoch [1/10] - Train Loss: 1.6023, Train Accuracy: 40.62% - Val Loss: 1.3400, Val Accuracy: 51.49%\n",
            "Epoch [2/10] - Train Loss: 1.1607, Train Accuracy: 58.47% - Val Loss: 1.0689, Val Accuracy: 62.22%\n",
            "Epoch [3/10] - Train Loss: 0.9598, Train Accuracy: 66.19% - Val Loss: 0.8543, Val Accuracy: 69.66%\n",
            "Epoch [4/10] - Train Loss: 0.8348, Train Accuracy: 70.48% - Val Loss: 0.7645, Val Accuracy: 73.54%\n",
            "Epoch [5/10] - Train Loss: 0.7603, Train Accuracy: 73.32% - Val Loss: 0.7607, Val Accuracy: 73.86%\n",
            "Epoch [6/10] - Train Loss: 0.6986, Train Accuracy: 75.53% - Val Loss: 0.6781, Val Accuracy: 76.30%\n",
            "Epoch [7/10] - Train Loss: 0.6523, Train Accuracy: 77.27% - Val Loss: 0.6429, Val Accuracy: 77.71%\n",
            "Epoch [8/10] - Train Loss: 0.6188, Train Accuracy: 78.35% - Val Loss: 0.6369, Val Accuracy: 78.39%\n",
            "Epoch [9/10] - Train Loss: 0.5843, Train Accuracy: 79.42% - Val Loss: 0.6163, Val Accuracy: 78.92%\n",
            "Epoch [10/10] - Train Loss: 0.5563, Train Accuracy: 80.48% - Val Loss: 0.5977, Val Accuracy: 79.37%\n"
          ]
        }
      ]
    },
    {
      "cell_type": "code",
      "source": [
        "import matplotlib.pyplot as plt\n",
        "\n",
        "# Plot training and validation losses\n",
        "def plot_losses(train_losses, val_losses, num_epochs):\n",
        "    epochs = range(1, num_epochs + 1)  # Epoch numbers\n",
        "\n",
        "    plt.figure(figsize=(10, 5))  # Set figure size\n",
        "    plt.plot(epochs, train_losses, label='Training Loss')  # Plot training loss\n",
        "    plt.plot(epochs, val_losses, label='Validation Loss')  # Plot validation loss\n",
        "    plt.title('Training and Validation Loss over Epochs')\n",
        "    plt.xlabel('Epochs')\n",
        "    plt.ylabel('Loss')\n",
        "    plt.legend()  # Show legend\n",
        "    plt.grid(True)  # Show grid\n",
        "    plt.show()  # Display the plot\n",
        "\n",
        "# Call the plotting function\n",
        "plot_losses(train_losses, val_losses, num_epochs)\n"
      ],
      "metadata": {
        "id": "rnMiGIYUBin3",
        "colab": {
          "base_uri": "https://localhost:8080/",
          "height": 487
        },
        "outputId": "7dd208cd-a57a-44f6-bcd3-864fa5012414"
      },
      "execution_count": null,
      "outputs": [
        {
          "output_type": "display_data",
          "data": {
            "text/plain": [
              "<Figure size 1000x500 with 1 Axes>"
            ],
            "image/png": "[encoded data removed]"
          },
          "metadata": {}
        }
      ]
    },
    {
      "cell_type": "code",
      "source": [
        "def test(model, test_loader, criterion, device):\n",
        "    model.eval()  # Set model to evaluation mode\n",
        "    test_loss = 0.0\n",
        "    correct = 0\n",
        "    total = 0\n",
        "\n",
        "    with torch.no_grad():  # Disable gradient calculation\n",
        "        for images, labels in test_loader:\n",
        "            images, labels = images.to(device), labels.to(device)  # Move to GPU/CPU\n",
        "            outputs = model(images)\n",
        "            loss = criterion(outputs, labels)\n",
        "\n",
        "            test_loss += loss.item()\n",
        "            _, predicted = outputs.max(1)\n",
        "            total += labels.size(0)\n",
        "            correct += predicted.eq(labels).sum().item()\n",
        "\n",
        "    avg_test_loss = test_loss / len(test_loader)\n",
        "    accuracy = 100. * correct / total\n",
        "    print(f'Test Loss: {avg_test_loss:.4f}, Accuracy: {accuracy:.2f}%')\n",
        "\n",
        "    return avg_test_loss, accuracy  # Return test loss and accuracy for logging or plotting"
      ],
      "metadata": {
        "id": "kj7n544sDgT_"
      },
      "execution_count": null,
      "outputs": []
    },
    {
      "cell_type": "code",
      "source": [
        "test(model,test_loader, criterion, device)"
      ],
      "metadata": {
        "id": "hi9EOIf1Dt6i",
        "colab": {
          "base_uri": "https://localhost:8080/"
        },
        "outputId": "9120abbe-ed3e-4674-9cfd-1bbfb841e57f"
      },
      "execution_count": null,
      "outputs": [
        {
          "output_type": "stream",
          "name": "stdout",
          "text": [
            "Test Loss: 0.5977, Accuracy: 79.37%\n"
          ]
        },
        {
          "output_type": "execute_result",
          "data": {
            "text/plain": [
              "(0.5977172463000575, 79.37)"
            ]
          },
          "metadata": {},
          "execution_count": 12
        }
      ]
    }
  ]
}